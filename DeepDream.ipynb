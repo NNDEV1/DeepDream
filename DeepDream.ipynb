{
  "nbformat": 4,
  "nbformat_minor": 0,
  "metadata": {
    "colab": {
      "name": "DeepDream.ipynb",
      "provenance": []
    },
    "kernelspec": {
      "name": "python3",
      "display_name": "Python 3"
    },
    "accelerator": "GPU"
  },
  "cells": [
    {
      "cell_type": "code",
      "metadata": {
        "id": "WTvD_S_2L-cH"
      },
      "source": [
        "import numpy as np\n",
        "import tensorflow as tf\n",
        "from tensorflow import keras\n",
        "from tensorflow.keras.applications import inception_v3"
      ],
      "execution_count": 2,
      "outputs": []
    },
    {
      "cell_type": "code",
      "metadata": {
        "id": "6OgRfLQ6MYxQ"
      },
      "source": [
        "base_image_path = '/content/statueofliberty.jpeg'\n",
        "result_prefix = \"sky_dream\""
      ],
      "execution_count": 3,
      "outputs": []
    },
    {
      "cell_type": "code",
      "metadata": {
        "id": "aC66o91KMXgj"
      },
      "source": [
        "layer_settings = {\n",
        "    \"mixed4\": 2.5,\n",
        "    \"mixed5\": 3.0,\n",
        "    \"mixed6\": 3.5,\n",
        "    \"mixed7\": 4.0\n",
        "}\n",
        "\n",
        "step = 0.01\n",
        "num_octaves = 5\n",
        "octave_scale = 1.4\n",
        "iterations = 20\n",
        "max_loss = 15.0\n",
        "\n"
      ],
      "execution_count": 4,
      "outputs": []
    },
    {
      "cell_type": "code",
      "metadata": {
        "id": "Cf4g53qGM3yp",
        "colab": {
          "base_uri": "https://localhost:8080/",
          "height": 242
        },
        "outputId": "eab8b17d-8050-4517-eea2-b29fe90bf11e"
      },
      "source": [
        "from IPython.display import Image, display\n",
        "\n",
        "display(Image(base_image_path))"
      ],
      "execution_count": 5,
      "outputs": [
        {
          "output_type": "display_data",
          "data": {
            "image/jpeg": "[encoded data removed]",
            "text/plain": [
              "<IPython.core.display.Image object>"
            ]
          },
          "metadata": {
            "tags": []
          }
        }
      ]
    },
    {
      "cell_type": "code",
      "metadata": {
        "id": "G34m3XjmM5cb"
      },
      "source": [
        "def preprocess(img_path):\n",
        "    img = keras.preprocessing.image.load_img(img_path)\n",
        "    img = keras.preprocessing.image.img_to_array(img)\n",
        "    img = np.expand_dims(img, axis=0)\n",
        "    img = inception_v3.preprocess_input(img)\n",
        "\n",
        "    return img\n",
        "\n",
        "def deprocess(img):\n",
        "    img = img.reshape((img.shape[1], img.shape[2], 3))\n",
        "    img /= 2\n",
        "    img += 0.5\n",
        "    img *= 255\n",
        "    img = np.clip(img, 0, 255).astype(\"uint8\")\n",
        "\n",
        "    return img\n"
      ],
      "execution_count": 6,
      "outputs": []
    },
    {
      "cell_type": "code",
      "metadata": {
        "id": "HGm1TXmLN-Ha",
        "colab": {
          "base_uri": "https://localhost:8080/"
        },
        "outputId": "e00d3b9c-33d5-46da-b512-6a591347027d"
      },
      "source": [
        "model = inception_v3.InceptionV3(weights=\"imagenet\", include_top=False)\n",
        "\n",
        "outputs_dict = dict([(layer.name, layer.output) for layer in [model.get_layer(name) for name in layer_settings.keys()]])\n",
        "feature_extractor = keras.Model(inputs=model.inputs, outputs=outputs_dict)"
      ],
      "execution_count": 7,
      "outputs": [
        {
          "output_type": "stream",
          "text": [
            "Downloading data from https://storage.googleapis.com/tensorflow/keras-applications/inception_v3/inception_v3_weights_tf_dim_ordering_tf_kernels_notop.h5\n",
            "87916544/87910968 [==============================] - 1s 0us/step\n"
          ],
          "name": "stdout"
        }
      ]
    },
    {
      "cell_type": "code",
      "metadata": {
        "id": "pqjSERsmOwXv"
      },
      "source": [
        "def compute_loss(input_image):\n",
        "    features = feature_extractor(input_image)\n",
        "    loss = tf.zeros(shape=())\n",
        "\n",
        "    for name in features.keys():\n",
        "        coeff = layer_settings[name]\n",
        "        activation = features[name]\n",
        "        scaling = tf.reduce_prod(tf.cast(tf.shape(activation), \"float32\"))\n",
        "        loss += coeff * tf.reduce_sum(tf.square(activation[:, 2:-2, 2:-2, :])) / scaling\n",
        "\n",
        "        return loss\n"
      ],
      "execution_count": 8,
      "outputs": []
    },
    {
      "cell_type": "code",
      "metadata": {
        "id": "3e-1vZMJPrvF"
      },
      "source": [
        "@tf.function\n",
        "def gradient_ascent_step(img, lr):\n",
        "    with tf.GradientTape() as tape:\n",
        "        tape.watch(img)\n",
        "        loss = compute_loss(img)\n",
        "    \n",
        "    grads = tape.gradient(loss, img)\n",
        "    grads /= tf.maximum(tf.reduce_mean(tf.abs(grads)), 1e-6)\n",
        "    img += lr * grads\n",
        "    \n",
        "    return loss, img\n",
        "\n",
        "def gradient_ascent_loop(img, iterations, lr, max_loss=None):\n",
        "    for i in range(iterations):\n",
        "        loss, img = gradient_ascent_step(img, lr)\n",
        "        if max_loss is not None and loss > max_loss:\n",
        "            break\n",
        "        print(f\"Iteration {i} --- Loss - {loss}\")\n",
        "\n",
        "    return img\n",
        "    "
      ],
      "execution_count": 9,
      "outputs": []
    },
    {
      "cell_type": "code",
      "metadata": {
        "id": "gTT_MaCZRPb5",
        "colab": {
          "base_uri": "https://localhost:8080/"
        },
        "outputId": "c2014f89-e5ae-44d0-ade6-191a964a6530"
      },
      "source": [
        "original_img = preprocess(base_image_path)\n",
        "original_shape = original_img.shape[1:3]\n",
        "sucessive_shapes = [original_shape]\n",
        "\n",
        "for i in range(1, num_octaves):\n",
        "    shape = tuple([int(dim / octave_scale ** i) for dim in original_shape])\n",
        "    sucessive_shapes.append(shape)\n",
        "sucessive_shapes = sucessive_shapes[::-1]\n",
        "shrunk_original_img = tf.image.resize(original_img, sucessive_shapes[0])\n",
        "img = tf.identity(original_img)\n",
        "\n",
        "for i, shape in enumerate(sucessive_shapes):\n",
        "    print(f\"Processing Octave {i} with shape {shape}\")\n",
        "    img = tf.image.resize(img, shape)\n",
        "    img = gradient_ascent_loop(img, iterations=iterations, lr=step, max_loss=max_loss)\n",
        "    upscaled_shrunk_original_img = tf.image.resize(shrunk_original_img, shape)\n",
        "    same_size_original = tf.image.resize(original_img, shape)\n",
        "    lost_detail = upscaled_shrunk_original_img - same_size_original\n",
        "\n",
        "    img += lost_detail\n",
        "    shrunk_original_img = tf.image.resize(original_img, shape)\n",
        "\n",
        "keras.preprocessing.image.save_img(result_prefix + \".jpg\", deprocess(img.numpy()))"
      ],
      "execution_count": 10,
      "outputs": [
        {
          "output_type": "stream",
          "text": [
            "Processing Octave 0 with shape (58, 58)\n",
            "Iteration 0 --- Loss - 0.0\n",
            "Iteration 1 --- Loss - 0.0\n",
            "Iteration 2 --- Loss - 0.0\n",
            "Iteration 3 --- Loss - 0.0\n",
            "Iteration 4 --- Loss - 0.0\n",
            "Iteration 5 --- Loss - 0.0\n",
            "Iteration 6 --- Loss - 0.0\n",
            "Iteration 7 --- Loss - 0.0\n",
            "Iteration 8 --- Loss - 0.0\n",
            "Iteration 9 --- Loss - 0.0\n",
            "Iteration 10 --- Loss - 0.0\n",
            "Iteration 11 --- Loss - 0.0\n",
            "Iteration 12 --- Loss - 0.0\n",
            "Iteration 13 --- Loss - 0.0\n",
            "Iteration 14 --- Loss - 0.0\n",
            "Iteration 15 --- Loss - 0.0\n",
            "Iteration 16 --- Loss - 0.0\n",
            "Iteration 17 --- Loss - 0.0\n",
            "Iteration 18 --- Loss - 0.0\n",
            "Iteration 19 --- Loss - 0.0\n",
            "Processing Octave 1 with shape (81, 81)\n",
            "Iteration 0 --- Loss - 0.0\n",
            "Iteration 1 --- Loss - 0.0\n",
            "Iteration 2 --- Loss - 0.0\n",
            "Iteration 3 --- Loss - 0.0\n",
            "Iteration 4 --- Loss - 0.0\n",
            "Iteration 5 --- Loss - 0.0\n",
            "Iteration 6 --- Loss - 0.0\n",
            "Iteration 7 --- Loss - 0.0\n",
            "Iteration 8 --- Loss - 0.0\n",
            "Iteration 9 --- Loss - 0.0\n",
            "Iteration 10 --- Loss - 0.0\n",
            "Iteration 11 --- Loss - 0.0\n",
            "Iteration 12 --- Loss - 0.0\n",
            "Iteration 13 --- Loss - 0.0\n",
            "Iteration 14 --- Loss - 0.0\n",
            "Iteration 15 --- Loss - 0.0\n",
            "Iteration 16 --- Loss - 0.0\n",
            "Iteration 17 --- Loss - 0.0\n",
            "Iteration 18 --- Loss - 0.0\n",
            "Iteration 19 --- Loss - 0.0\n",
            "Processing Octave 2 with shape (114, 114)\n",
            "Iteration 0 --- Loss - 0.03485079109668732\n",
            "Iteration 1 --- Loss - 0.05519372969865799\n",
            "Iteration 2 --- Loss - 0.12665610015392303\n",
            "Iteration 3 --- Loss - 0.1815640777349472\n",
            "Iteration 4 --- Loss - 0.21236231923103333\n",
            "Iteration 5 --- Loss - 0.27168938517570496\n",
            "Iteration 6 --- Loss - 0.31403130292892456\n",
            "Iteration 7 --- Loss - 0.38654613494873047\n",
            "Iteration 8 --- Loss - 0.47363609075546265\n",
            "Iteration 9 --- Loss - 0.5426660180091858\n",
            "Iteration 10 --- Loss - 0.6147780418395996\n",
            "Iteration 11 --- Loss - 0.6598125100135803\n",
            "Iteration 12 --- Loss - 0.7144443988800049\n",
            "Iteration 13 --- Loss - 0.7611107230186462\n",
            "Iteration 14 --- Loss - 0.7962013483047485\n",
            "Iteration 15 --- Loss - 0.8489335775375366\n",
            "Iteration 16 --- Loss - 0.8843461275100708\n",
            "Iteration 17 --- Loss - 0.9579451084136963\n",
            "Iteration 18 --- Loss - 1.020143747329712\n",
            "Iteration 19 --- Loss - 1.059672236442566\n",
            "Processing Octave 3 with shape (160, 160)\n",
            "Iteration 0 --- Loss - 0.2660026252269745\n",
            "Iteration 1 --- Loss - 0.5973840951919556\n",
            "Iteration 2 --- Loss - 0.889766275882721\n",
            "Iteration 3 --- Loss - 1.148919939994812\n",
            "Iteration 4 --- Loss - 1.3717670440673828\n",
            "Iteration 5 --- Loss - 1.5224298238754272\n",
            "Iteration 6 --- Loss - 1.7301554679870605\n",
            "Iteration 7 --- Loss - 1.8824430704116821\n",
            "Iteration 8 --- Loss - 1.9928863048553467\n",
            "Iteration 9 --- Loss - 2.137389898300171\n",
            "Iteration 10 --- Loss - 2.2619268894195557\n",
            "Iteration 11 --- Loss - 2.410247802734375\n",
            "Iteration 12 --- Loss - 2.59444522857666\n",
            "Iteration 13 --- Loss - 2.6514241695404053\n",
            "Iteration 14 --- Loss - 2.8553714752197266\n",
            "Iteration 15 --- Loss - 2.94805908203125\n",
            "Iteration 16 --- Loss - 3.07049298286438\n",
            "Iteration 17 --- Loss - 3.149061441421509\n",
            "Iteration 18 --- Loss - 3.3289527893066406\n",
            "Iteration 19 --- Loss - 3.4313862323760986\n",
            "Processing Octave 4 with shape (225, 225)\n",
            "Iteration 0 --- Loss - 0.47775372862815857\n",
            "Iteration 1 --- Loss - 0.9067097902297974\n",
            "Iteration 2 --- Loss - 1.259628415107727\n",
            "Iteration 3 --- Loss - 1.5558593273162842\n",
            "Iteration 4 --- Loss - 1.8259533643722534\n",
            "Iteration 5 --- Loss - 2.059417486190796\n",
            "Iteration 6 --- Loss - 2.3000102043151855\n",
            "Iteration 7 --- Loss - 2.464353561401367\n",
            "Iteration 8 --- Loss - 2.680979013442993\n",
            "Iteration 9 --- Loss - 2.8252015113830566\n",
            "Iteration 10 --- Loss - 2.9752633571624756\n",
            "Iteration 11 --- Loss - 3.149909019470215\n",
            "Iteration 12 --- Loss - 3.390293598175049\n",
            "Iteration 13 --- Loss - 3.4950625896453857\n",
            "Iteration 14 --- Loss - 3.6220765113830566\n",
            "Iteration 15 --- Loss - 3.721230983734131\n",
            "Iteration 16 --- Loss - 3.8783986568450928\n",
            "Iteration 17 --- Loss - 4.0595903396606445\n",
            "Iteration 18 --- Loss - 4.218430995941162\n",
            "Iteration 19 --- Loss - 4.374716281890869\n"
          ],
          "name": "stdout"
        }
      ]
    },
    {
      "cell_type": "code",
      "metadata": {
        "id": "ejdX9zCBTwJ-"
      },
      "source": [
        ""
      ],
      "execution_count": null,
      "outputs": []
    }
  ]
}